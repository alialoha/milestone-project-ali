{
 "cells": [
  {
   "cell_type": "code",
   "execution_count": 1,
   "metadata": {},
   "outputs": [],
   "source": [
    "def data_fetcher():\n",
    "  from alpha_vantage.timeseries import TimeSeries\n",
    "  from alpha_vantage.techindicators import TechIndicators\n",
    "  from matplotlib.pyplot import figure\n",
    "  import matplotlib.pyplot as plt\n",
    "\n",
    "  # Your key here\n",
    "  key = 'USO50V272CD6QVE5'\n",
    "  # Chose your output format, or default to JSON (python dict)\n",
    "  ts = TimeSeries(key, output_format='pandas')\n",
    "  ti = TechIndicators(key)\n",
    "\n",
    "  # Get the data, returns a tuple\n",
    "  # aapl_data is a pandas dataframe, aapl_meta_data is a dict\n",
    "  aapl_data, aapl_meta_data = ts.get_daily(symbol='AAPL')\n",
    "  # aapl_sma is a dict, aapl_meta_sma also a dict\n",
    "  aapl_sma, aapl_meta_sma = ti.get_sma(symbol='AAPL')\n",
    "  \n",
    "  return aapl_data\n",
    "\n",
    "  # Visualization\n",
    "  # figure(num=None, figsize=(15, 6), dpi=80, facecolor='w', edgecolor='k')\n",
    "  # aapl_data['4. close'].plot()\n",
    "  # plt.tight_layout()\n",
    "  # plt.grid()\n",
    "  # plt.show()\n",
    "\n",
    "def data_plotter(Data):\n",
    "  from bokeh.plotting import figure, output_file, show\n",
    "  # prepare some data\n",
    "  x = Data.index\n",
    "  y = Data[Data.columns[3]]\n",
    "\n",
    "  # output to static HTML file\n",
    "  output_file(\"close_lines.html\")\n",
    "\n",
    "  # create a new plot\n",
    "  p = figure(\n",
    "    tools=\"pan,box_zoom,reset,save\",\n",
    "    # y_axis_type=\"log\", y_range=[0.001, 10**11], title=\"log axis example\",\n",
    "    x_axis_label='date', y_axis_label='closing price'\n",
    "  )\n",
    "\n",
    "  # add some renderers\n",
    "  p.line(x, y, line_width=3)\n",
    " \n",
    "  # show the results\n",
    "  show(p)"
   ]
  },
  {
   "cell_type": "code",
   "execution_count": 2,
   "metadata": {},
   "outputs": [],
   "source": [
    "data_plotter(data_fetcher())"
   ]
  },
  {
   "cell_type": "code",
   "execution_count": 4,
   "metadata": {},
   "outputs": [],
   "source": [
    "data =data_fetcher()"
   ]
  },
  {
   "cell_type": "code",
   "execution_count": 6,
   "metadata": {},
   "outputs": [
    {
     "data": {
      "text/plain": [
       "DatetimeIndex(['2020-04-08', '2020-04-07', '2020-04-06', '2020-04-03',\n",
       "               '2020-04-02', '2020-04-01', '2020-03-31', '2020-03-30',\n",
       "               '2020-03-27', '2020-03-26', '2020-03-25', '2020-03-24',\n",
       "               '2020-03-23', '2020-03-20', '2020-03-19', '2020-03-18',\n",
       "               '2020-03-17', '2020-03-16', '2020-03-13', '2020-03-12',\n",
       "               '2020-03-11', '2020-03-10', '2020-03-09', '2020-03-06',\n",
       "               '2020-03-05', '2020-03-04', '2020-03-03', '2020-03-02',\n",
       "               '2020-02-28', '2020-02-27', '2020-02-26', '2020-02-25',\n",
       "               '2020-02-24', '2020-02-21', '2020-02-20', '2020-02-19',\n",
       "               '2020-02-18', '2020-02-14', '2020-02-13', '2020-02-12',\n",
       "               '2020-02-11', '2020-02-10', '2020-02-07', '2020-02-06',\n",
       "               '2020-02-05', '2020-02-04', '2020-02-03', '2020-01-31',\n",
       "               '2020-01-30', '2020-01-29', '2020-01-28', '2020-01-27',\n",
       "               '2020-01-24', '2020-01-23', '2020-01-22', '2020-01-21',\n",
       "               '2020-01-17', '2020-01-16', '2020-01-15', '2020-01-14',\n",
       "               '2020-01-13', '2020-01-10', '2020-01-09', '2020-01-08',\n",
       "               '2020-01-07', '2020-01-06', '2020-01-03', '2020-01-02',\n",
       "               '2019-12-31', '2019-12-30', '2019-12-27', '2019-12-26',\n",
       "               '2019-12-24', '2019-12-23', '2019-12-20', '2019-12-19',\n",
       "               '2019-12-18', '2019-12-17', '2019-12-16', '2019-12-13',\n",
       "               '2019-12-12', '2019-12-11', '2019-12-10', '2019-12-09',\n",
       "               '2019-12-06', '2019-12-05', '2019-12-04', '2019-12-03',\n",
       "               '2019-12-02', '2019-11-29', '2019-11-27', '2019-11-26',\n",
       "               '2019-11-25', '2019-11-22', '2019-11-21', '2019-11-20',\n",
       "               '2019-11-19', '2019-11-18', '2019-11-15', '2019-11-14'],\n",
       "              dtype='datetime64[ns]', name='date', freq=None)"
      ]
     },
     "execution_count": 6,
     "metadata": {},
     "output_type": "execute_result"
    }
   ],
   "source": [
    "data.index"
   ]
  },
  {
   "cell_type": "code",
   "execution_count": null,
   "metadata": {},
   "outputs": [],
   "source": []
  }
 ],
 "metadata": {
  "kernelspec": {
   "display_name": "Python 3",
   "language": "python",
   "name": "python3"
  },
  "language_info": {
   "codemirror_mode": {
    "name": "ipython",
    "version": 3
   },
   "file_extension": ".py",
   "mimetype": "text/x-python",
   "name": "python",
   "nbconvert_exporter": "python",
   "pygments_lexer": "ipython3",
   "version": "3.7.5"
  }
 },
 "nbformat": 4,
 "nbformat_minor": 2
}
